{
 "cells": [
  {
   "cell_type": "code",
   "execution_count": 1,
   "id": "264ef519",
   "metadata": {},
   "outputs": [],
   "source": [
    "from datascience import *\n",
    "import numpy as np\n",
    "\n",
    "%matplotlib inline\n",
    "import matplotlib.pyplot as plots\n",
    "plots.style.use('fivethirtyeight')\n",
    "import warnings\n",
    "#warnings.simplefilter(action='ignore', category=np.VisibleDeprecationWarning)"
   ]
  },
  {
   "cell_type": "markdown",
   "id": "275d8df3",
   "metadata": {},
   "source": [
    "# Generating a Histogram of Coin Flips\n",
    "\n",
    "I claim to have a fair coin. I flipped it 100 times and got a total of 85 heads. Should you doubt that the coin is fair? \\\n",
    "\n",
    "Null Hypothesis: The coin is fair and pure random chance is sufficient to explain the observation (85 heads out of 100 flips).\n",
    "\n",
    "Strategy for exploring the null hypothesis\n",
    "1. Write a function that flips a *fair* coin 100 times and returns the total number of heads. Call this sequence of 100 flips a single experiment.\n",
    "2. Use a for loop to run the experiment many times and gather up all the outcomes into an array.\n",
    "3. Create a single column table containing the outcomes in the array.\n",
    "4. Visualize the outcomes with a histogram."
   ]
  },
  {
   "cell_type": "markdown",
   "id": "d9c44085",
   "metadata": {},
   "source": [
    "# Step 1: Create Function for the Experiment"
   ]
  },
  {
   "cell_type": "code",
   "execution_count": 5,
   "id": "e6d5e8c2",
   "metadata": {},
   "outputs": [],
   "source": [
    "def coin_flip_100():\n",
    "    \n",
    "    winnings = 0\n",
    "\n",
    "    for i in np.arange(100):\n",
    "        coin = make_array('Heads', 'Tails')\n",
    "        flip = np.random.choice(coin)\n",
    "        if flip == 'Heads':\n",
    "            winnings = winnings + 1   \n",
    "            \n",
    "    return winnings"
   ]
  },
  {
   "cell_type": "code",
   "execution_count": 10,
   "id": "e0a152eb",
   "metadata": {},
   "outputs": [
    {
     "data": {
      "text/plain": [
       "47"
      ]
     },
     "execution_count": 10,
     "metadata": {},
     "output_type": "execute_result"
    }
   ],
   "source": [
    "coin_flip_100()"
   ]
  },
  {
   "cell_type": "markdown",
   "id": "fabfb3cb",
   "metadata": {},
   "source": [
    "# Step 2: Iterate the experiment many times"
   ]
  },
  {
   "cell_type": "code",
   "execution_count": 11,
   "id": "27f57ddf",
   "metadata": {},
   "outputs": [
    {
     "data": {
      "text/plain": [
       "array([ 52.,  51.,  56.,  48.,  51.,  42.,  59.,  51.,  44.,  43.,  44.,\n",
       "        43.,  56.,  39.,  45.,  50.,  59.,  56.,  54.,  43.,  51.,  41.,\n",
       "        59.,  45.,  53.,  44.,  49.,  50.,  56.,  51.,  57.,  60.,  40.,\n",
       "        46.,  53.,  48.,  58.,  48.,  50.,  49.,  50.,  58.,  48.,  48.,\n",
       "        52.,  49.,  46.,  45.,  52.,  39.,  49.,  54.,  47.,  55.,  53.,\n",
       "        51.,  51.,  49.,  55.,  40.,  54.,  49.,  54.,  48.,  43.,  56.,\n",
       "        54.,  50.,  58.,  51.,  49.,  44.,  43.,  45.,  50.,  51.,  53.,\n",
       "        42.,  48.,  50.,  53.,  58.,  47.,  47.,  53.,  55.,  46.,  51.,\n",
       "        47.,  60.,  49.,  50.,  50.,  47.,  46.,  46.,  56.,  51.,  52.,\n",
       "        44.,  43.,  53.,  47.,  49.,  49.,  45.,  46.,  47.,  48.,  55.,\n",
       "        45.,  54.,  47.,  48.,  56.,  52.,  60.,  52.,  47.,  51.,  51.,\n",
       "        50.,  44.,  43.,  58.,  46.,  56.,  56.,  43.,  43.,  46.,  44.,\n",
       "        48.,  63.,  49.,  46.,  55.,  48.,  55.,  47.,  57.,  52.,  48.,\n",
       "        45.,  56.,  49.,  48.,  51.,  47.,  46.,  46.,  42.,  51.,  50.,\n",
       "        50.,  51.,  49.,  43.,  46.,  43.,  54.,  45.,  52.,  46.,  52.,\n",
       "        46.,  54.,  51.,  44.,  51.,  54.,  51.,  46.,  51.,  43.,  53.,\n",
       "        43.,  50.,  43.,  45.,  50.,  46.,  40.,  57.,  45.,  51.,  46.,\n",
       "        50.,  46.,  48.,  49.,  51.,  55.,  52.,  54.,  47.,  43.,  53.,\n",
       "        44.,  51.,  44.,  55.,  52.,  51.,  48.,  66.,  43.,  51.,  54.,\n",
       "        55.,  43.,  58.,  52.,  55.,  52.,  50.,  48.,  50.,  44.,  53.,\n",
       "        56.,  45.,  53.,  54.,  49.,  48.,  47.,  51.,  50.,  56.,  55.,\n",
       "        45.,  48.,  54.,  41.,  47.,  47.,  50.,  53.,  52.,  54.,  53.,\n",
       "        51.,  50.,  49.,  54.,  55.,  49.,  46.,  56.,  48.,  47.,  63.,\n",
       "        49.,  49.,  46.,  46.,  62.,  57.,  50.,  42.,  47.,  51.,  52.,\n",
       "        54.,  49.,  51.,  51.,  48.,  51.,  45.,  46.,  48.,  46.,  48.,\n",
       "        49.,  55.,  37.,  48.,  57.,  49.,  43.,  40.,  59.,  59.,  50.,\n",
       "        47.,  50.,  53.,  51.,  56.,  48.,  60.,  50.,  39.,  51.,  49.,\n",
       "        39.,  45.,  51.,  63.,  53.,  46.,  48.,  57.,  48.,  46.,  51.,\n",
       "        45.,  48.,  46.,  47.,  49.,  42.,  48.,  58.,  52.,  43.,  55.,\n",
       "        58.,  52.,  51.,  57.,  49.,  59.,  43.,  56.,  45.,  60.,  56.,\n",
       "        47.,  54.,  53.,  49.,  53.,  47.,  34.,  52.,  56.,  52.,  44.,\n",
       "        57.,  51.,  42.,  45.,  52.,  56.,  56.,  50.,  45.,  50.,  40.,\n",
       "        52.,  49.,  43.,  54.,  44.,  45.,  48.,  50.,  47.,  47.,  49.,\n",
       "        55.,  41.,  53.,  57.,  55.,  50.,  49.,  47.,  47.,  57.,  50.,\n",
       "        49.,  47.,  54.,  54.,  52.,  41.,  60.,  46.,  48.,  54.,  49.,\n",
       "        41.,  55.,  49.,  49.,  55.,  55.,  47.,  48.,  55.,  49.,  49.,\n",
       "        48.,  49.,  51.,  55.,  49.,  59.,  58.,  56.,  50.,  49.,  52.,\n",
       "        49.,  49.,  52.,  51.,  54.,  53.,  54.,  54.,  57.,  49.,  54.,\n",
       "        52.,  55.,  46.,  53.,  47.,  52.,  52.,  52.,  44.,  42.,  54.,\n",
       "        49.,  55.,  47.,  46.,  46.,  48.,  44.,  44.,  53.,  49.,  56.,\n",
       "        51.,  52.,  45.,  48.,  58.,  48.,  46.,  49.,  39.,  58.,  58.,\n",
       "        50.,  53.,  54.,  40.,  42.,  54.,  49.,  53.,  50.,  46.,  54.,\n",
       "        42.,  55.,  60.,  55.,  38.,  49.,  46.,  46.,  42.,  50.,  54.,\n",
       "        62.,  52.,  57.,  52.,  49.,  44.,  42.,  53.,  55.,  52.,  49.,\n",
       "        48.,  50.,  57.,  47.,  46.,  51.,  60.,  47.,  53.,  48.,  52.,\n",
       "        50.,  49.,  48.,  48.,  46.,  42.,  50.,  50.,  47.,  48.,  49.,\n",
       "        51.,  51.,  54.,  51.,  45.,  49.,  49.,  49.,  53.,  40.,  49.,\n",
       "        51.,  49.,  55.,  57.,  49.,  41.,  56.,  51.,  54.,  55.,  51.,\n",
       "        55.,  45.,  58.,  58.,  47.,  42.,  54.,  39.,  53.,  53.,  53.,\n",
       "        39.,  57.,  55.,  49.,  52.,  50.,  53.,  49.,  47.,  62.,  54.,\n",
       "        51.,  47.,  54.,  52.,  54.,  46.,  52.,  43.,  52.,  53.,  47.,\n",
       "        51.,  45.,  50.,  53.,  53.,  57.,  47.,  65.,  52.,  46.,  53.,\n",
       "        56.,  56.,  53.,  49.,  56.,  54.,  61.,  42.,  54.,  46.,  52.,\n",
       "        50.,  51.,  52.,  54.,  52.,  51.,  48.,  40.,  42.,  57.,  52.,\n",
       "        53.,  44.,  48.,  53.,  43.,  50.,  44.,  59.,  53.,  54.,  42.,\n",
       "        51.,  47.,  50.,  49.,  51.,  59.,  54.,  40.,  48.,  46.,  54.,\n",
       "        52.,  50.,  42.,  49.,  45.,  49.,  41.,  54.,  37.,  41.,  40.,\n",
       "        56.,  60.,  52.,  44.,  55.,  42.,  54.,  47.,  53.,  39.,  56.,\n",
       "        54.,  55.,  38.,  56.,  47.,  49.,  51.,  49.,  56.,  53.,  51.,\n",
       "        43.,  59.,  50.,  53.,  44.,  60.,  52.,  60.,  47.,  37.,  53.,\n",
       "        50.,  49.,  51.,  48.,  38.,  55.,  46.,  44.,  51.,  49.,  56.,\n",
       "        44.,  49.,  49.,  60.,  46.,  45.,  46.,  50.,  55.,  48.,  41.,\n",
       "        46.,  55.,  56.,  53.,  47.,  46.,  53.,  43.,  49.,  53.,  43.,\n",
       "        50.,  58.,  50.,  38.,  60.,  57.,  51.,  49.,  45.,  55.,  37.,\n",
       "        56.,  53.,  40.,  47.,  51.,  49.,  48.,  49.,  54.,  46.,  45.,\n",
       "        47.,  45.,  53.,  52.,  40.,  51.,  47.,  44.,  54.,  54.,  57.,\n",
       "        57.,  54.,  49.,  47.,  53.,  56.,  48.,  53.,  48.,  48.,  42.,\n",
       "        47.,  43.,  58.,  42.,  55.,  47.,  53.,  45.,  56.,  55.,  50.,\n",
       "        45.,  56.,  55.,  50.,  54.,  49.,  47.,  46.,  46.,  45.,  47.,\n",
       "        50.,  46.,  37.,  41.,  50.,  54.,  59.,  51.,  62.,  45.,  61.,\n",
       "        50.,  54.,  52.,  53.,  50.,  45.,  46.,  50.,  53.,  50.,  45.,\n",
       "        46.,  48.,  42.,  61.,  56.,  57.,  55.,  53.,  46.,  54.,  47.,\n",
       "        51.,  47.,  56.,  58.,  52.,  51.,  54.,  52.,  54.,  56.,  52.,\n",
       "        60.,  56.,  51.,  50.,  46.,  50.,  45.,  49.,  45.,  49.,  55.,\n",
       "        57.,  51.,  56.,  59.,  55.,  43.,  45.,  41.,  49.,  51.,  47.,\n",
       "        46.,  56.,  44.,  50.,  52.,  48.,  52.,  43.,  47.,  54.,  46.,\n",
       "        56.,  51.,  47.,  43.,  51.,  53.,  50.,  39.,  52.,  47.,  57.,\n",
       "        45.,  53.,  47.,  55.,  49.,  45.,  54.,  48.,  49.,  43.,  59.,\n",
       "        54.,  53.,  47.,  48.,  51.,  46.,  58.,  55.,  48.,  45.,  59.,\n",
       "        57.,  48.,  52.,  42.,  51.,  53.,  58.,  48.,  49.,  47.,  51.,\n",
       "        44.,  46.,  49.,  60.,  52.,  52.,  45.,  55.,  49.,  53.,  44.,\n",
       "        34.,  46.,  50.,  56.,  44.,  50.,  58.,  53.,  47.,  56.,  46.,\n",
       "        51.,  49.,  50.,  52.,  45.,  48.,  44.,  50.,  56.,  47.,  55.,\n",
       "        44.,  49.,  46.,  50.,  63.,  44.,  54.,  51.,  57.,  49.,  54.,\n",
       "        48.,  50.,  49.,  56.,  56.,  52.,  42.,  51.,  50.,  48.,  56.,\n",
       "        56.,  46.,  52.,  48.,  44.,  49.,  58.,  46.,  52.,  45.,  48.,\n",
       "        44.,  52.,  49.,  47.,  45.,  52.,  49.,  50.,  52.,  49.,  46.,\n",
       "        51.,  53.,  53.,  50.,  39.,  54.,  50.,  54.,  44.,  55.,  51.,\n",
       "        48.,  50.,  53.,  53.,  43.,  50.,  48.,  55.,  48.,  52.,  44.,\n",
       "        52.,  52.,  45.,  52.,  49.,  45.,  48.,  55.,  56.,  46.,  58.,\n",
       "        47.,  59.,  52.,  52.,  52.,  48.,  50.,  50.,  47.,  49.])"
      ]
     },
     "execution_count": 11,
     "metadata": {},
     "output_type": "execute_result"
    }
   ],
   "source": [
    "outcomes = make_array()\n",
    "\n",
    "for i in np.arange(1000):\n",
    "    experiment = coin_flip_100()\n",
    "    outcomes = np.append(outcomes, experiment)\n",
    "    \n",
    "outcomes"
   ]
  },
  {
   "cell_type": "markdown",
   "id": "701728d8",
   "metadata": {},
   "source": [
    "# Step 3 and 4: Create a table and histogram"
   ]
  },
  {
   "cell_type": "code",
   "execution_count": 12,
   "id": "da39d938",
   "metadata": {},
   "outputs": [
    {
     "data": {
      "image/png": "[encoded data removed]",
      "text/plain": [
       "<Figure size 600x400 with 1 Axes>"
      ]
     },
     "metadata": {},
     "output_type": "display_data"
    }
   ],
   "source": [
    "outcomes_table = Table().with_column('Number of Heads in 100 Flips', outcomes)\n",
    "\n",
    "outcomes_table.hist('Number of Heads in 100 Flips', bins = 20)\n"
   ]
  },
  {
   "cell_type": "markdown",
   "id": "0002378f",
   "metadata": {},
   "source": []
  }
 ],
 "metadata": {
  "kernelspec": {
   "display_name": "Python 3",
   "language": "python",
   "name": "python3"
  },
  "language_info": {
   "codemirror_mode": {
    "name": "ipython",
    "version": 3
   },
   "file_extension": ".py",
   "mimetype": "text/x-python",
   "name": "python",
   "nbconvert_exporter": "python",
   "pygments_lexer": "ipython3",
   "version": "3.12.1"
  }
 },
 "nbformat": 4,
 "nbformat_minor": 5
}
